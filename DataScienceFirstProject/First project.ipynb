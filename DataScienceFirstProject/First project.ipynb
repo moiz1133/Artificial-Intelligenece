{
 "cells": [
  {
   "cell_type": "code",
   "execution_count": 2,
   "metadata": {},
   "outputs": [
    {
     "data": {
      "text/plain": [
       "1.0"
      ]
     },
     "execution_count": 2,
     "metadata": {},
     "output_type": "execute_result"
    }
   ],
   "source": [
    "import pandas as pd\n",
    "from sklearn.tree import DecisionTreeClassifier\n",
    "from sklearn.model_selection import train_test_split\n",
    "from sklearn.metrics import accuracy_score\n",
    "df=pd.read_csv('music1.csv')\n",
    "X=df.drop(columns=['genre'])\n",
    "Y=df['genre']\n",
    "X_train,X_test,y_train,y_test=train_test_split(X,Y,test_size=0.2)\n",
    "model=DecisionTreeClassifier()\n",
    "model.fit(X_train, y_train)\n",
    "prediction=model.predict(X_test)\n",
    "score=accuracy_score(y_test,prediction)\n",
    "score"
   ]
  },
  {
   "cell_type": "code",
   "execution_count": 13,
   "metadata": {},
   "outputs": [
    {
     "data": {
      "text/plain": [
       "array(['HipHop'], dtype=object)"
      ]
     },
     "execution_count": 13,
     "metadata": {},
     "output_type": "execute_result"
    }
   ],
   "source": [
    "import pandas as pd\n",
    "from sklearn.tree import DecisionTreeClassifier\n",
    "import joblib\n",
    "# music_data=pd.read_csv('music1.csv')\n",
    "# X=music_data.drop(columns=['genre'])\n",
    "# y=music_data['genre']\n",
    "# model=DecisionTreeClassifier()\n",
    "# model.fit(X, y)\n",
    "model=joblib.load('MyFile.joblib')\n",
    "predictions=model.predict([[21,1]])\n",
    "predictions"
   ]
  },
  {
   "cell_type": "code",
   "execution_count": 15,
   "metadata": {},
   "outputs": [],
   "source": [
    "import pandas as pd\n",
    "from sklearn.tree import DecisionTreeClassifier\n",
    "from sklearn import tree\n",
    "import joblib\n",
    "music_data=pd.read_csv('music1.csv')\n",
    "X=music_data.drop(columns=['genre'])\n",
    "y=music_data['genre']\n",
    "model=DecisionTreeClassifier()\n",
    "model.fit(X, y)\n",
    "tree.export_graphviz(model, out_file=\"recomender.dot\",\n",
    "                    feature_names=['age','gender'],\n",
    "                    label='all',\n",
    "                    rounded=True,\n",
    "                    filled=True)"
   ]
  },
  {
   "cell_type": "code",
   "execution_count": null,
   "metadata": {},
   "outputs": [],
   "source": []
  }
 ],
 "metadata": {
  "kernelspec": {
   "display_name": "Python 3",
   "language": "python",
   "name": "python3"
  },
  "language_info": {
   "codemirror_mode": {
    "name": "ipython",
    "version": 3
   },
   "file_extension": ".py",
   "mimetype": "text/x-python",
   "name": "python",
   "nbconvert_exporter": "python",
   "pygments_lexer": "ipython3",
   "version": "3.8.3"
  }
 },
 "nbformat": 4,
 "nbformat_minor": 4
}
