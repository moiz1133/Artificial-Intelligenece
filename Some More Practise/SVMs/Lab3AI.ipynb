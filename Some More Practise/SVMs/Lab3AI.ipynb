{
 "cells": [
  {
   "cell_type": "code",
   "execution_count": 8,
   "metadata": {},
   "outputs": [],
   "source": [
    "from sklearn.metrics import confusion_matrix\n",
    "from sklearn.model_selection import train_test_split\n",
    "import pandas as pd\n",
    "#loading the dataset\n",
    "df=pd.read_csv(r'trainingSet.csv')\n"
   ]
  },
  {
   "cell_type": "code",
   "execution_count": 9,
   "metadata": {},
   "outputs": [],
   "source": [
    "X_train=df.iloc[:,:-1].values\n",
    "Y_train=df.iloc[:,-1].values\n"
   ]
  },
  {
   "cell_type": "markdown",
   "metadata": {},
   "source": [
    "Now the value is splitted into independent and dependend variables.Now training the svm model"
   ]
  },
  {
   "cell_type": "code",
   "execution_count": 7,
   "metadata": {},
   "outputs": [],
   "source": [
    "from sklearn.svm import SVC\n",
    "svm_model_linear=SVC(kernel='linear',C=1).fit(X_train,Y_train)\n"
   ]
  },
  {
   "cell_type": "markdown",
   "metadata": {},
   "source": [
    "Now the model is train.We are taking the X_test from the test.csv \n"
   ]
  },
  {
   "cell_type": "code",
   "execution_count": 10,
   "metadata": {},
   "outputs": [],
   "source": [
    "df=pd.read_csv(r'testSet1.csv')\n",
    "X_test=df.iloc[:,:-1].values\n"
   ]
  },
  {
   "cell_type": "markdown",
   "metadata": {},
   "source": [
    "We are going to get our predictions"
   ]
  },
  {
   "cell_type": "code",
   "execution_count": 14,
   "metadata": {},
   "outputs": [],
   "source": [
    "sp=svm_model_linear.predict(X_test)\n",
    "\n"
   ]
  },
  {
   "cell_type": "code",
   "execution_count": 22,
   "metadata": {},
   "outputs": [],
   "source": [
    "from pandas import ExcelWriter\n",
    "from pandas import ExcelFile\n",
    "import numpy as np"
   ]
  },
  {
   "cell_type": "code",
   "execution_count": 23,
   "metadata": {},
   "outputs": [
    {
     "name": "stdout",
     "output_type": "stream",
     "text": [
      "             0\n",
      "0      Arctica\n",
      "1      Arctica\n",
      "2      Arctica\n",
      "3      Arctica\n",
      "4      Arctica\n",
      "5      Arctica\n",
      "6    Harlequin\n",
      "7    Harlequin\n",
      "8      Arctica\n",
      "9      Arctica\n",
      "10     Arctica\n",
      "11   Harlequin\n",
      "12     Arctica\n",
      "13   Harlequin\n",
      "14   Harlequin\n",
      "15  Carolinian\n",
      "16   Harlequin\n",
      "17  Carolinian\n",
      "18  Carolinian\n",
      "19   Harlequin\n",
      "20   Harlequin\n",
      "21  Carolinian\n",
      "22   Harlequin\n",
      "23  Carolinian\n",
      "24   Harlequin\n",
      "25   Harlequin\n",
      "26  Carolinian\n",
      "27  Carolinian\n",
      "28  Carolinian\n",
      "29  Carolinian\n"
     ]
    }
   ],
   "source": [
    "arr = np.array(sp)\n",
    "\n",
    "output = pd.DataFrame(data=arr.flatten())\n"
   ]
  },
  {
   "cell_type": "code",
   "execution_count": 26,
   "metadata": {},
   "outputs": [],
   "source": [
    "\n",
    "writer = ExcelWriter('results.xlsx')\n",
    "output.to_excel(writer,index=False)\n",
    "writer.save()"
   ]
  },
  {
   "cell_type": "code",
   "execution_count": null,
   "metadata": {},
   "outputs": [],
   "source": []
  }
 ],
 "metadata": {
  "kernelspec": {
   "display_name": "Python 3",
   "language": "python",
   "name": "python3"
  },
  "language_info": {
   "codemirror_mode": {
    "name": "ipython",
    "version": 3
   },
   "file_extension": ".py",
   "mimetype": "text/x-python",
   "name": "python",
   "nbconvert_exporter": "python",
   "pygments_lexer": "ipython3",
   "version": "3.8.3"
  }
 },
 "nbformat": 4,
 "nbformat_minor": 4
}
